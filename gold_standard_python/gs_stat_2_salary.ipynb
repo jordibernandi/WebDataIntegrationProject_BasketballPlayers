{
 "cells": [
  {
   "cell_type": "code",
   "execution_count": 1,
   "id": "77cc26e1",
   "metadata": {},
   "outputs": [],
   "source": [
    "from bs4 import BeautifulSoup\n",
    "import pandas as pd\n",
    "import numpy as np"
   ]
  },
  {
   "cell_type": "code",
   "execution_count": 2,
   "id": "3b360dc3",
   "metadata": {},
   "outputs": [],
   "source": [
    "with open('player_salary.xml', 'r') as f:\n",
    "    player_salary = f.read()"
   ]
  },
  {
   "cell_type": "code",
   "execution_count": 3,
   "id": "74e6b890",
   "metadata": {},
   "outputs": [],
   "source": [
    "# parsing the data\n",
    "df_salary = pd.read_xml(player_salary).drop(columns=[\"registerValue\", \"salary\", \"fullTeamName\"])"
   ]
  },
  {
   "cell_type": "code",
   "execution_count": 4,
   "id": "47c8e011",
   "metadata": {},
   "outputs": [
    {
     "data": {
      "text/plain": [
       "11837"
      ]
     },
     "execution_count": 4,
     "metadata": {},
     "output_type": "execute_result"
    }
   ],
   "source": [
    "len(df_salary)"
   ]
  },
  {
   "cell_type": "code",
   "execution_count": 5,
   "id": "183a60f9",
   "metadata": {},
   "outputs": [
    {
     "data": {
      "text/html": [
       "<div>\n",
       "<style scoped>\n",
       "    .dataframe tbody tr th:only-of-type {\n",
       "        vertical-align: middle;\n",
       "    }\n",
       "\n",
       "    .dataframe tbody tr th {\n",
       "        vertical-align: top;\n",
       "    }\n",
       "\n",
       "    .dataframe thead th {\n",
       "        text-align: right;\n",
       "    }\n",
       "</style>\n",
       "<table border=\"1\" class=\"dataframe\">\n",
       "  <thead>\n",
       "    <tr style=\"text-align: right;\">\n",
       "      <th></th>\n",
       "      <th>id</th>\n",
       "      <th>name</th>\n",
       "      <th>startYear</th>\n",
       "      <th>endYear</th>\n",
       "      <th>team</th>\n",
       "    </tr>\n",
       "  </thead>\n",
       "  <tbody>\n",
       "    <tr>\n",
       "      <th>0</th>\n",
       "      <td>player_salary_id_1</td>\n",
       "      <td>A.C. Green</td>\n",
       "      <td>1990</td>\n",
       "      <td>1991</td>\n",
       "      <td>LAL</td>\n",
       "    </tr>\n",
       "    <tr>\n",
       "      <th>1</th>\n",
       "      <td>player_salary_id_2</td>\n",
       "      <td>A.C. Green</td>\n",
       "      <td>1991</td>\n",
       "      <td>1992</td>\n",
       "      <td>LAL</td>\n",
       "    </tr>\n",
       "    <tr>\n",
       "      <th>2</th>\n",
       "      <td>player_salary_id_3</td>\n",
       "      <td>A.C. Green</td>\n",
       "      <td>1992</td>\n",
       "      <td>1993</td>\n",
       "      <td>LAL</td>\n",
       "    </tr>\n",
       "    <tr>\n",
       "      <th>3</th>\n",
       "      <td>player_salary_id_4</td>\n",
       "      <td>A.C. Green</td>\n",
       "      <td>1993</td>\n",
       "      <td>1994</td>\n",
       "      <td>PHO</td>\n",
       "    </tr>\n",
       "    <tr>\n",
       "      <th>4</th>\n",
       "      <td>player_salary_id_5</td>\n",
       "      <td>A.C. Green</td>\n",
       "      <td>1994</td>\n",
       "      <td>1995</td>\n",
       "      <td>PHO</td>\n",
       "    </tr>\n",
       "  </tbody>\n",
       "</table>\n",
       "</div>"
      ],
      "text/plain": [
       "                   id        name  startYear  endYear team\n",
       "0  player_salary_id_1  A.C. Green       1990     1991  LAL\n",
       "1  player_salary_id_2  A.C. Green       1991     1992  LAL\n",
       "2  player_salary_id_3  A.C. Green       1992     1993  LAL\n",
       "3  player_salary_id_4  A.C. Green       1993     1994  PHO\n",
       "4  player_salary_id_5  A.C. Green       1994     1995  PHO"
      ]
     },
     "execution_count": 5,
     "metadata": {},
     "output_type": "execute_result"
    }
   ],
   "source": [
    "df_salary.head()"
   ]
  },
  {
   "cell_type": "code",
   "execution_count": 6,
   "id": "375a0694",
   "metadata": {},
   "outputs": [],
   "source": [
    "with open('player_stat.xml', 'r') as f:\n",
    "    player_stat = f.read()"
   ]
  },
  {
   "cell_type": "code",
   "execution_count": 7,
   "id": "58d2d2b6",
   "metadata": {},
   "outputs": [],
   "source": [
    "# parsing the data\n",
    "df_stat = pd.read_xml(player_stat).drop(columns=[\"position\", \"position\", \"height\", \"weight\", \"birth_date\", \"college\"])"
   ]
  },
  {
   "cell_type": "code",
   "execution_count": 8,
   "id": "1ee32fd5",
   "metadata": {},
   "outputs": [
    {
     "data": {
      "text/plain": [
       "4550"
      ]
     },
     "execution_count": 8,
     "metadata": {},
     "output_type": "execute_result"
    }
   ],
   "source": [
    "len(df_stat)"
   ]
  },
  {
   "cell_type": "code",
   "execution_count": 9,
   "id": "b744ac57",
   "metadata": {},
   "outputs": [
    {
     "data": {
      "text/html": [
       "<div>\n",
       "<style scoped>\n",
       "    .dataframe tbody tr th:only-of-type {\n",
       "        vertical-align: middle;\n",
       "    }\n",
       "\n",
       "    .dataframe tbody tr th {\n",
       "        vertical-align: top;\n",
       "    }\n",
       "\n",
       "    .dataframe thead th {\n",
       "        text-align: right;\n",
       "    }\n",
       "</style>\n",
       "<table border=\"1\" class=\"dataframe\">\n",
       "  <thead>\n",
       "    <tr style=\"text-align: right;\">\n",
       "      <th></th>\n",
       "      <th>id</th>\n",
       "      <th>name</th>\n",
       "      <th>year_start</th>\n",
       "      <th>year_end</th>\n",
       "    </tr>\n",
       "  </thead>\n",
       "  <tbody>\n",
       "    <tr>\n",
       "      <th>0</th>\n",
       "      <td>player_stat_id_1</td>\n",
       "      <td>Alaa Abdelnaby</td>\n",
       "      <td>1991</td>\n",
       "      <td>1995</td>\n",
       "    </tr>\n",
       "    <tr>\n",
       "      <th>1</th>\n",
       "      <td>player_stat_id_2</td>\n",
       "      <td>Zaid Abdul-Aziz</td>\n",
       "      <td>1969</td>\n",
       "      <td>1978</td>\n",
       "    </tr>\n",
       "    <tr>\n",
       "      <th>2</th>\n",
       "      <td>player_stat_id_3</td>\n",
       "      <td>Kareem Abdul-Jabbar</td>\n",
       "      <td>1970</td>\n",
       "      <td>1989</td>\n",
       "    </tr>\n",
       "    <tr>\n",
       "      <th>3</th>\n",
       "      <td>player_stat_id_4</td>\n",
       "      <td>Mahmoud Abdul-Rauf</td>\n",
       "      <td>1991</td>\n",
       "      <td>2001</td>\n",
       "    </tr>\n",
       "    <tr>\n",
       "      <th>4</th>\n",
       "      <td>player_stat_id_5</td>\n",
       "      <td>Tariq Abdul-Wahad</td>\n",
       "      <td>1998</td>\n",
       "      <td>2003</td>\n",
       "    </tr>\n",
       "  </tbody>\n",
       "</table>\n",
       "</div>"
      ],
      "text/plain": [
       "                 id                 name  year_start  year_end\n",
       "0  player_stat_id_1       Alaa Abdelnaby        1991      1995\n",
       "1  player_stat_id_2      Zaid Abdul-Aziz        1969      1978\n",
       "2  player_stat_id_3  Kareem Abdul-Jabbar        1970      1989\n",
       "3  player_stat_id_4   Mahmoud Abdul-Rauf        1991      2001\n",
       "4  player_stat_id_5    Tariq Abdul-Wahad        1998      2003"
      ]
     },
     "execution_count": 9,
     "metadata": {},
     "output_type": "execute_result"
    }
   ],
   "source": [
    "df_stat.head()"
   ]
  },
  {
   "cell_type": "code",
   "execution_count": 10,
   "id": "8dd4c28b",
   "metadata": {},
   "outputs": [],
   "source": [
    "# use a subset of the data or the size of the cartesian product will be too large\n",
    "df_salary_sample = df_salary.sample(n=2000, random_state=1)\n",
    "df_stat_sample = df_stat.sample(n=2000, random_state=1)"
   ]
  },
  {
   "cell_type": "code",
   "execution_count": 11,
   "id": "c0c209f9",
   "metadata": {},
   "outputs": [],
   "source": [
    "# cartesian product of datasets\n",
    "df = pd.merge(df_salary_sample.assign(key=1), df_stat_sample.assign(key=1), on='key').drop('key', axis=1)"
   ]
  },
  {
   "cell_type": "code",
   "execution_count": 12,
   "id": "b39786d3",
   "metadata": {},
   "outputs": [
    {
     "data": {
      "text/plain": [
       "4000000"
      ]
     },
     "execution_count": 12,
     "metadata": {},
     "output_type": "execute_result"
    }
   ],
   "source": [
    "len(df)"
   ]
  },
  {
   "cell_type": "code",
   "execution_count": 13,
   "id": "48b35db3",
   "metadata": {},
   "outputs": [
    {
     "data": {
      "text/html": [
       "<div>\n",
       "<style scoped>\n",
       "    .dataframe tbody tr th:only-of-type {\n",
       "        vertical-align: middle;\n",
       "    }\n",
       "\n",
       "    .dataframe tbody tr th {\n",
       "        vertical-align: top;\n",
       "    }\n",
       "\n",
       "    .dataframe thead th {\n",
       "        text-align: right;\n",
       "    }\n",
       "</style>\n",
       "<table border=\"1\" class=\"dataframe\">\n",
       "  <thead>\n",
       "    <tr style=\"text-align: right;\">\n",
       "      <th></th>\n",
       "      <th>id_x</th>\n",
       "      <th>name_x</th>\n",
       "      <th>startYear</th>\n",
       "      <th>endYear</th>\n",
       "      <th>team</th>\n",
       "      <th>id_y</th>\n",
       "      <th>name_y</th>\n",
       "      <th>year_start</th>\n",
       "      <th>year_end</th>\n",
       "    </tr>\n",
       "  </thead>\n",
       "  <tbody>\n",
       "    <tr>\n",
       "      <th>0</th>\n",
       "      <td>player_salary_id_11246</td>\n",
       "      <td>Troy Murphy</td>\n",
       "      <td>2008</td>\n",
       "      <td>2009</td>\n",
       "      <td>IND</td>\n",
       "      <td>player_stat_id_2721</td>\n",
       "      <td>Ken Menke</td>\n",
       "      <td>1950</td>\n",
       "      <td>1950</td>\n",
       "    </tr>\n",
       "    <tr>\n",
       "      <th>1</th>\n",
       "      <td>player_salary_id_11246</td>\n",
       "      <td>Troy Murphy</td>\n",
       "      <td>2008</td>\n",
       "      <td>2009</td>\n",
       "      <td>IND</td>\n",
       "      <td>player_stat_id_788</td>\n",
       "      <td>Joe Cooke</td>\n",
       "      <td>1971</td>\n",
       "      <td>1971</td>\n",
       "    </tr>\n",
       "    <tr>\n",
       "      <th>2</th>\n",
       "      <td>player_salary_id_11246</td>\n",
       "      <td>Troy Murphy</td>\n",
       "      <td>2008</td>\n",
       "      <td>2009</td>\n",
       "      <td>IND</td>\n",
       "      <td>player_stat_id_3133</td>\n",
       "      <td>Charlie Paulk</td>\n",
       "      <td>1969</td>\n",
       "      <td>1972</td>\n",
       "    </tr>\n",
       "    <tr>\n",
       "      <th>3</th>\n",
       "      <td>player_salary_id_11246</td>\n",
       "      <td>Troy Murphy</td>\n",
       "      <td>2008</td>\n",
       "      <td>2009</td>\n",
       "      <td>IND</td>\n",
       "      <td>player_stat_id_1724</td>\n",
       "      <td>Mark Hendrickson</td>\n",
       "      <td>1997</td>\n",
       "      <td>2000</td>\n",
       "    </tr>\n",
       "    <tr>\n",
       "      <th>4</th>\n",
       "      <td>player_salary_id_11246</td>\n",
       "      <td>Troy Murphy</td>\n",
       "      <td>2008</td>\n",
       "      <td>2009</td>\n",
       "      <td>IND</td>\n",
       "      <td>player_stat_id_730</td>\n",
       "      <td>Bob Cluggish</td>\n",
       "      <td>1947</td>\n",
       "      <td>1947</td>\n",
       "    </tr>\n",
       "  </tbody>\n",
       "</table>\n",
       "</div>"
      ],
      "text/plain": [
       "                     id_x       name_x  startYear  endYear team  \\\n",
       "0  player_salary_id_11246  Troy Murphy       2008     2009  IND   \n",
       "1  player_salary_id_11246  Troy Murphy       2008     2009  IND   \n",
       "2  player_salary_id_11246  Troy Murphy       2008     2009  IND   \n",
       "3  player_salary_id_11246  Troy Murphy       2008     2009  IND   \n",
       "4  player_salary_id_11246  Troy Murphy       2008     2009  IND   \n",
       "\n",
       "                  id_y            name_y  year_start  year_end  \n",
       "0  player_stat_id_2721         Ken Menke        1950      1950  \n",
       "1   player_stat_id_788         Joe Cooke        1971      1971  \n",
       "2  player_stat_id_3133     Charlie Paulk        1969      1972  \n",
       "3  player_stat_id_1724  Mark Hendrickson        1997      2000  \n",
       "4   player_stat_id_730      Bob Cluggish        1947      1947  "
      ]
     },
     "execution_count": 13,
     "metadata": {},
     "output_type": "execute_result"
    }
   ],
   "source": [
    "df.head()"
   ]
  },
  {
   "cell_type": "code",
   "execution_count": 14,
   "id": "3fa4e431",
   "metadata": {},
   "outputs": [],
   "source": [
    "def sim(str1, str2):   \n",
    "    # calculate the minimum edit distance\n",
    "    len1 = len(str1) + 1\n",
    "    len2 = len(str2) + 1\n",
    "    d = np.ndarray(shape=(len1, len2), dtype=int, buffer=np.zeros((len1, len2)))\n",
    "    for i in range(len1):\n",
    "        d[i, 0] = i\n",
    "    for i in range(len2):\n",
    "        d[0, i] = i\n",
    "    for i in range(1, len1):\n",
    "        for j in range(1, len2):\n",
    "            if str1[i - 1] == str2[j - 1]:\n",
    "                d[i][j] = d[i - 1][j - 1]\n",
    "            else:\n",
    "                d[i][j] = min(d[i - 1][j] + 1, d[i][j - 1] + 1, d[i - 1][j - 1] + 1)\n",
    "    \n",
    "    # similarity\n",
    "    return 1 - d[len1 - 1][len2 - 1] / max(len1, len2)"
   ]
  },
  {
   "cell_type": "code",
   "execution_count": 15,
   "id": "5090ee14",
   "metadata": {},
   "outputs": [
    {
     "name": "stdout",
     "output_type": "stream",
     "text": [
      "CPU times: user 18min 26s, sys: 15.7 s, total: 18min 42s\n",
      "Wall time: 18min 36s\n"
     ]
    }
   ],
   "source": [
    "%%time\n",
    "\n",
    "df[\"sim\"] = df.apply(lambda x: sim(x['name_x'].lower(), x['name_y'].lower()), axis=1)"
   ]
  },
  {
   "cell_type": "code",
   "execution_count": 16,
   "id": "94bcf60a",
   "metadata": {},
   "outputs": [],
   "source": [
    "df[\"sim_group\"] = df[\"sim\"].round(1)"
   ]
  },
  {
   "cell_type": "code",
   "execution_count": 17,
   "id": "f7832a0c",
   "metadata": {},
   "outputs": [
    {
     "data": {
      "text/plain": [
       "0.2    1999848\n",
       "0.3     942957\n",
       "0.1     696315\n",
       "0.4     294901\n",
       "0.5      49497\n",
       "0.6      10821\n",
       "0.7       3890\n",
       "1.0        913\n",
       "0.8        772\n",
       "0.9         79\n",
       "0.0          7\n",
       "Name: sim_group, dtype: int64"
      ]
     },
     "execution_count": 17,
     "metadata": {},
     "output_type": "execute_result"
    }
   ],
   "source": [
    "df[\"sim_group\"].value_counts()"
   ]
  },
  {
   "cell_type": "code",
   "execution_count": 18,
   "id": "47073110",
   "metadata": {},
   "outputs": [],
   "source": [
    "# matching record pairs and some corner case matches\n",
    "df1 = df[df[\"sim_group\"] == 1.0].sample(n=50, random_state=1)\n",
    "df1[\"result\"] = True\n",
    "df1[\"is_corner_case\"] = None"
   ]
  },
  {
   "cell_type": "code",
   "execution_count": 19,
   "id": "e3a90680",
   "metadata": {},
   "outputs": [],
   "source": [
    "# non matching record pairs\n",
    "df2 = df[df[\"sim_group\"] <= 0.2].sample(n=100, random_state=1)\n",
    "df2[\"result\"] = False\n",
    "df2[\"is_corner_case\"] = False"
   ]
  },
  {
   "cell_type": "code",
   "execution_count": 20,
   "id": "0dab9d03",
   "metadata": {},
   "outputs": [],
   "source": [
    "# corner case matches and non matches (mostly non matches)\n",
    "df3 = df[(df[\"sim_group\"] >= 0.7) & (df[\"sim_group\"] <= 0.8)].sample(n=25, random_state=1)\n",
    "df3[\"result\"] = None\n",
    "df3[\"is_corner_case\"] = True"
   ]
  },
  {
   "cell_type": "code",
   "execution_count": 21,
   "id": "33f841d2",
   "metadata": {},
   "outputs": [],
   "source": [
    "# corner case matches and non matches (mostly matches)\n",
    "df4 = df[df[\"sim_group\"] == 0.9].sample(n=25, random_state=1)\n",
    "df4[\"result\"] = None\n",
    "df4[\"is_corner_case\"] = True"
   ]
  },
  {
   "cell_type": "code",
   "execution_count": 22,
   "id": "f10a617f",
   "metadata": {},
   "outputs": [],
   "source": [
    "df_gold_standard = pd.concat([df1, df2, df3, df4], ignore_index=True)"
   ]
  },
  {
   "cell_type": "code",
   "execution_count": 23,
   "id": "8bc8d95d",
   "metadata": {},
   "outputs": [
    {
     "data": {
      "text/html": [
       "<div>\n",
       "<style scoped>\n",
       "    .dataframe tbody tr th:only-of-type {\n",
       "        vertical-align: middle;\n",
       "    }\n",
       "\n",
       "    .dataframe tbody tr th {\n",
       "        vertical-align: top;\n",
       "    }\n",
       "\n",
       "    .dataframe thead th {\n",
       "        text-align: right;\n",
       "    }\n",
       "</style>\n",
       "<table border=\"1\" class=\"dataframe\">\n",
       "  <thead>\n",
       "    <tr style=\"text-align: right;\">\n",
       "      <th></th>\n",
       "      <th>id_x</th>\n",
       "      <th>name_x</th>\n",
       "      <th>startYear</th>\n",
       "      <th>endYear</th>\n",
       "      <th>team</th>\n",
       "      <th>id_y</th>\n",
       "      <th>name_y</th>\n",
       "      <th>year_start</th>\n",
       "      <th>year_end</th>\n",
       "      <th>sim</th>\n",
       "      <th>sim_group</th>\n",
       "      <th>result</th>\n",
       "      <th>is_corner_case</th>\n",
       "    </tr>\n",
       "  </thead>\n",
       "  <tbody>\n",
       "    <tr>\n",
       "      <th>0</th>\n",
       "      <td>player_salary_id_11675</td>\n",
       "      <td>William Cunningham</td>\n",
       "      <td>1997</td>\n",
       "      <td>1998</td>\n",
       "      <td>PHO</td>\n",
       "      <td>player_stat_id_858</td>\n",
       "      <td>William Cunningham</td>\n",
       "      <td>1998</td>\n",
       "      <td>1999</td>\n",
       "      <td>1.0</td>\n",
       "      <td>1.0</td>\n",
       "      <td>True</td>\n",
       "      <td>None</td>\n",
       "    </tr>\n",
       "    <tr>\n",
       "      <th>1</th>\n",
       "      <td>player_salary_id_11411</td>\n",
       "      <td>Victor Oladipo</td>\n",
       "      <td>2016</td>\n",
       "      <td>2017</td>\n",
       "      <td>OKC</td>\n",
       "      <td>player_stat_id_3036</td>\n",
       "      <td>Victor Oladipo</td>\n",
       "      <td>2014</td>\n",
       "      <td>2018</td>\n",
       "      <td>1.0</td>\n",
       "      <td>1.0</td>\n",
       "      <td>True</td>\n",
       "      <td>None</td>\n",
       "    </tr>\n",
       "    <tr>\n",
       "      <th>2</th>\n",
       "      <td>player_salary_id_2935</td>\n",
       "      <td>Dell Demps</td>\n",
       "      <td>1995</td>\n",
       "      <td>1996</td>\n",
       "      <td>SAS</td>\n",
       "      <td>player_stat_id_974</td>\n",
       "      <td>Dell Demps</td>\n",
       "      <td>1994</td>\n",
       "      <td>1997</td>\n",
       "      <td>1.0</td>\n",
       "      <td>1.0</td>\n",
       "      <td>True</td>\n",
       "      <td>None</td>\n",
       "    </tr>\n",
       "    <tr>\n",
       "      <th>3</th>\n",
       "      <td>player_salary_id_4061</td>\n",
       "      <td>Frank Kornet</td>\n",
       "      <td>1990</td>\n",
       "      <td>1991</td>\n",
       "      <td>MIL</td>\n",
       "      <td>player_stat_id_2254</td>\n",
       "      <td>Frank Kornet</td>\n",
       "      <td>1990</td>\n",
       "      <td>1991</td>\n",
       "      <td>1.0</td>\n",
       "      <td>1.0</td>\n",
       "      <td>True</td>\n",
       "      <td>None</td>\n",
       "    </tr>\n",
       "    <tr>\n",
       "      <th>4</th>\n",
       "      <td>player_salary_id_8786</td>\n",
       "      <td>Paul Davis</td>\n",
       "      <td>2009</td>\n",
       "      <td>2010</td>\n",
       "      <td>WAS</td>\n",
       "      <td>player_stat_id_932</td>\n",
       "      <td>Paul Davis</td>\n",
       "      <td>2007</td>\n",
       "      <td>2010</td>\n",
       "      <td>1.0</td>\n",
       "      <td>1.0</td>\n",
       "      <td>True</td>\n",
       "      <td>None</td>\n",
       "    </tr>\n",
       "  </tbody>\n",
       "</table>\n",
       "</div>"
      ],
      "text/plain": [
       "                     id_x              name_x  startYear  endYear team  \\\n",
       "0  player_salary_id_11675  William Cunningham       1997     1998  PHO   \n",
       "1  player_salary_id_11411      Victor Oladipo       2016     2017  OKC   \n",
       "2   player_salary_id_2935          Dell Demps       1995     1996  SAS   \n",
       "3   player_salary_id_4061        Frank Kornet       1990     1991  MIL   \n",
       "4   player_salary_id_8786          Paul Davis       2009     2010  WAS   \n",
       "\n",
       "                  id_y              name_y  year_start  year_end  sim  \\\n",
       "0   player_stat_id_858  William Cunningham        1998      1999  1.0   \n",
       "1  player_stat_id_3036      Victor Oladipo        2014      2018  1.0   \n",
       "2   player_stat_id_974          Dell Demps        1994      1997  1.0   \n",
       "3  player_stat_id_2254        Frank Kornet        1990      1991  1.0   \n",
       "4   player_stat_id_932          Paul Davis        2007      2010  1.0   \n",
       "\n",
       "   sim_group result is_corner_case  \n",
       "0        1.0   True           None  \n",
       "1        1.0   True           None  \n",
       "2        1.0   True           None  \n",
       "3        1.0   True           None  \n",
       "4        1.0   True           None  "
      ]
     },
     "execution_count": 23,
     "metadata": {},
     "output_type": "execute_result"
    }
   ],
   "source": [
    "df_gold_standard.head()"
   ]
  },
  {
   "cell_type": "code",
   "execution_count": 24,
   "id": "f7009453",
   "metadata": {},
   "outputs": [],
   "source": [
    "# rename the column names\n",
    "df_gold_standard.rename(columns={\n",
    "    \"id_x\": \"player_salary_id\", \"name_x\": \"player_salary_name\",\n",
    "    \"startYear\": \"player_salary_start_year\", \"endYear\": \"player_salary_end_year\",\n",
    "    \"team\": \"player_salary_team\", \n",
    "    \"id_y\": \"player_stat_id\", \"name_y\": \"player_stat_name\",\n",
    "    \"year_start\": \"player_stat_start_year\", \"year_end\": \"player_stat_end_year\"}, inplace=True)"
   ]
  },
  {
   "cell_type": "code",
   "execution_count": 25,
   "id": "d18b3972",
   "metadata": {},
   "outputs": [],
   "source": [
    "# reorder the columns\n",
    "order = [\n",
    "    \"player_stat_id\", \"player_salary_id\", \"player_stat_name\", \"player_salary_name\",\n",
    "    \"player_stat_start_year\", \"player_salary_start_year\", \"player_stat_end_year\", \"player_salary_end_year\",\n",
    "    \"player_salary_team\",\n",
    "    \"sim\", \"sim_group\", \"result\", \"is_corner_case\"\n",
    "]\n",
    "    \n",
    "df_gold_standard = df_gold_standard[order]"
   ]
  },
  {
   "cell_type": "code",
   "execution_count": 26,
   "id": "d9c2de39",
   "metadata": {},
   "outputs": [
    {
     "data": {
      "text/html": [
       "<div>\n",
       "<style scoped>\n",
       "    .dataframe tbody tr th:only-of-type {\n",
       "        vertical-align: middle;\n",
       "    }\n",
       "\n",
       "    .dataframe tbody tr th {\n",
       "        vertical-align: top;\n",
       "    }\n",
       "\n",
       "    .dataframe thead th {\n",
       "        text-align: right;\n",
       "    }\n",
       "</style>\n",
       "<table border=\"1\" class=\"dataframe\">\n",
       "  <thead>\n",
       "    <tr style=\"text-align: right;\">\n",
       "      <th></th>\n",
       "      <th>player_stat_id</th>\n",
       "      <th>player_salary_id</th>\n",
       "      <th>player_stat_name</th>\n",
       "      <th>player_salary_name</th>\n",
       "      <th>player_stat_start_year</th>\n",
       "      <th>player_salary_start_year</th>\n",
       "      <th>player_stat_end_year</th>\n",
       "      <th>player_salary_end_year</th>\n",
       "      <th>player_salary_team</th>\n",
       "      <th>sim</th>\n",
       "      <th>sim_group</th>\n",
       "      <th>result</th>\n",
       "      <th>is_corner_case</th>\n",
       "    </tr>\n",
       "  </thead>\n",
       "  <tbody>\n",
       "    <tr>\n",
       "      <th>0</th>\n",
       "      <td>player_stat_id_858</td>\n",
       "      <td>player_salary_id_11675</td>\n",
       "      <td>William Cunningham</td>\n",
       "      <td>William Cunningham</td>\n",
       "      <td>1998</td>\n",
       "      <td>1997</td>\n",
       "      <td>1999</td>\n",
       "      <td>1998</td>\n",
       "      <td>PHO</td>\n",
       "      <td>1.0</td>\n",
       "      <td>1.0</td>\n",
       "      <td>True</td>\n",
       "      <td>None</td>\n",
       "    </tr>\n",
       "    <tr>\n",
       "      <th>1</th>\n",
       "      <td>player_stat_id_3036</td>\n",
       "      <td>player_salary_id_11411</td>\n",
       "      <td>Victor Oladipo</td>\n",
       "      <td>Victor Oladipo</td>\n",
       "      <td>2014</td>\n",
       "      <td>2016</td>\n",
       "      <td>2018</td>\n",
       "      <td>2017</td>\n",
       "      <td>OKC</td>\n",
       "      <td>1.0</td>\n",
       "      <td>1.0</td>\n",
       "      <td>True</td>\n",
       "      <td>None</td>\n",
       "    </tr>\n",
       "    <tr>\n",
       "      <th>2</th>\n",
       "      <td>player_stat_id_974</td>\n",
       "      <td>player_salary_id_2935</td>\n",
       "      <td>Dell Demps</td>\n",
       "      <td>Dell Demps</td>\n",
       "      <td>1994</td>\n",
       "      <td>1995</td>\n",
       "      <td>1997</td>\n",
       "      <td>1996</td>\n",
       "      <td>SAS</td>\n",
       "      <td>1.0</td>\n",
       "      <td>1.0</td>\n",
       "      <td>True</td>\n",
       "      <td>None</td>\n",
       "    </tr>\n",
       "    <tr>\n",
       "      <th>3</th>\n",
       "      <td>player_stat_id_2254</td>\n",
       "      <td>player_salary_id_4061</td>\n",
       "      <td>Frank Kornet</td>\n",
       "      <td>Frank Kornet</td>\n",
       "      <td>1990</td>\n",
       "      <td>1990</td>\n",
       "      <td>1991</td>\n",
       "      <td>1991</td>\n",
       "      <td>MIL</td>\n",
       "      <td>1.0</td>\n",
       "      <td>1.0</td>\n",
       "      <td>True</td>\n",
       "      <td>None</td>\n",
       "    </tr>\n",
       "    <tr>\n",
       "      <th>4</th>\n",
       "      <td>player_stat_id_932</td>\n",
       "      <td>player_salary_id_8786</td>\n",
       "      <td>Paul Davis</td>\n",
       "      <td>Paul Davis</td>\n",
       "      <td>2007</td>\n",
       "      <td>2009</td>\n",
       "      <td>2010</td>\n",
       "      <td>2010</td>\n",
       "      <td>WAS</td>\n",
       "      <td>1.0</td>\n",
       "      <td>1.0</td>\n",
       "      <td>True</td>\n",
       "      <td>None</td>\n",
       "    </tr>\n",
       "  </tbody>\n",
       "</table>\n",
       "</div>"
      ],
      "text/plain": [
       "        player_stat_id        player_salary_id    player_stat_name  \\\n",
       "0   player_stat_id_858  player_salary_id_11675  William Cunningham   \n",
       "1  player_stat_id_3036  player_salary_id_11411      Victor Oladipo   \n",
       "2   player_stat_id_974   player_salary_id_2935          Dell Demps   \n",
       "3  player_stat_id_2254   player_salary_id_4061        Frank Kornet   \n",
       "4   player_stat_id_932   player_salary_id_8786          Paul Davis   \n",
       "\n",
       "   player_salary_name  player_stat_start_year  player_salary_start_year  \\\n",
       "0  William Cunningham                    1998                      1997   \n",
       "1      Victor Oladipo                    2014                      2016   \n",
       "2          Dell Demps                    1994                      1995   \n",
       "3        Frank Kornet                    1990                      1990   \n",
       "4          Paul Davis                    2007                      2009   \n",
       "\n",
       "   player_stat_end_year  player_salary_end_year player_salary_team  sim  \\\n",
       "0                  1999                    1998                PHO  1.0   \n",
       "1                  2018                    2017                OKC  1.0   \n",
       "2                  1997                    1996                SAS  1.0   \n",
       "3                  1991                    1991                MIL  1.0   \n",
       "4                  2010                    2010                WAS  1.0   \n",
       "\n",
       "   sim_group result is_corner_case  \n",
       "0        1.0   True           None  \n",
       "1        1.0   True           None  \n",
       "2        1.0   True           None  \n",
       "3        1.0   True           None  \n",
       "4        1.0   True           None  "
      ]
     },
     "execution_count": 26,
     "metadata": {},
     "output_type": "execute_result"
    }
   ],
   "source": [
    "df_gold_standard.head()"
   ]
  },
  {
   "cell_type": "code",
   "execution_count": 27,
   "id": "e7e49be8",
   "metadata": {},
   "outputs": [],
   "source": [
    "df_gold_standard.to_csv(\"gs_stat_2_salary.csv\", index=False)"
   ]
  }
 ],
 "metadata": {
  "kernelspec": {
   "display_name": "Python 3 (ipykernel)",
   "language": "python",
   "name": "python3"
  },
  "language_info": {
   "codemirror_mode": {
    "name": "ipython",
    "version": 3
   },
   "file_extension": ".py",
   "mimetype": "text/x-python",
   "name": "python",
   "nbconvert_exporter": "python",
   "pygments_lexer": "ipython3",
   "version": "3.10.8"
  }
 },
 "nbformat": 4,
 "nbformat_minor": 5
}
